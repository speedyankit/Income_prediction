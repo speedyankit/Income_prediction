{
 "cells": [
  {
   "cell_type": "code",
   "execution_count": 2,
   "id": "f0f5c0c3-86b4-41ba-ac6c-25c1cf32569f",
   "metadata": {},
   "outputs": [],
   "source": [
    "import numpy as np\n",
    "import math\n",
    "import pandas as pd\n",
    "import matplotlib.pyplot as plt\n",
    "plt.style.use('./deeplearning.mplstyle')\n",
    "from lab_utils_uni import plt_house_x, plt_contour_wgrad, plt_divergence, plt_gradients"
   ]
  },
  {
   "cell_type": "code",
   "execution_count": 3,
   "id": "665c4ea7-2e43-49eb-b573-0ae67b7f2546",
   "metadata": {},
   "outputs": [],
   "source": [
    "df = pd.read_csv(\"multiple_linear_regression_dataset.csv\")"
   ]
  },
  {
   "cell_type": "code",
   "execution_count": 4,
   "id": "cef9dcb9-f409-460f-b708-2745ccb95c5d",
   "metadata": {},
   "outputs": [
    {
     "data": {
      "text/plain": [
       "   age  experience  income\n",
       "0   25           1   30450\n",
       "1   30           3   35670\n",
       "2   47           2   31580\n",
       "3   32           5   40130\n",
       "4   43          10   47830"
      ]
     },
     "execution_count": 4,
     "metadata": {},
     "output_type": "execute_result"
    }
   ],
   "source": [
    "df.head()\n"
   ]
  },
  {
   "cell_type": "code",
   "execution_count": 21,
   "id": "53437462-bb8c-4c4e-b0df-f239a1476d46",
   "metadata": {},
   "outputs": [
    {
     "name": "stdout",
     "output_type": "stream",
     "text": [
      "age           int64\n",
      "experience    int64\n",
      "income        int64\n",
      "dtype: object\n"
     ]
    }
   ],
   "source": [
    "print(df.dtypes)"
   ]
  },
  {
   "cell_type": "code",
   "execution_count": 5,
   "id": "58075186-c063-4df8-8c4a-c0366b40e434",
   "metadata": {},
   "outputs": [],
   "source": [
    "x_train = df['experience']\n",
    "y_train = df['income']"
   ]
  },
  {
   "cell_type": "code",
   "execution_count": 6,
   "id": "e2a7b1cf-0b06-42e6-b03d-a587e8d8315a",
   "metadata": {},
   "outputs": [
    {
     "data": {
      "image/png": "...",
      "text/plain": [
       "<Figure size 640x480 with 1 Axes>"
      ]
     },
     "metadata": {},
     "output_type": "display_data"
    }
   ],
   "source": [
    "plt.scatter(x_train,y_train, c='r')\n",
    "plt.xlabel('Experience')\n",
    "plt.ylabel('Income')\n",
    "plt.title('Experience vs Income')\n",
    "plt.show()"
   ]
  },
  {
   "cell_type": "markdown",
   "id": "d85d84ed-7bd5-4179-998f-58d495a8780d",
   "metadata": {},
   "source": [
    "From here I am going to use scikit learn because I have just learn about it in module 2 "
   ]
  },
  {
   "cell_type": "code",
   "execution_count": 53,
   "id": "ece3e521-802d-4160-bd79-3946ae81a003",
   "metadata": {},
   "outputs": [],
   "source": [
    "from sklearn.linear_model import LinearRegression\n",
    "np.set_printoptions(precision=2)"
   ]
  },
  {
   "cell_type": "code",
   "execution_count": 54,
   "id": "1c472db3-40fb-48f7-9e90-fd77a16163ee",
   "metadata": {},
   "outputs": [],
   "source": [
    "X_train = df[['experience']]\n",
    "Y_train = df['income']\n"
   ]
  },
  {
   "cell_type": "code",
   "execution_count": 55,
   "id": "a7b055c6-19c7-4935-8d61-5065980f9dba",
   "metadata": {},
   "outputs": [
    {
     "data": {
      "text/plain": [
       "LinearRegression()"
      ]
     },
     "execution_count": 55,
     "metadata": {},
     "output_type": "execute_result"
    }
   ],
   "source": [
    "linear_model = LinearRegression()\n",
    "\n",
    "linear_model.fit(X_train, Y_train) "
   ]
  },
  {
   "cell_type": "code",
   "execution_count": 56,
   "id": "42c333c0-3166-43bd-8432-f352cb8a2e1a",
   "metadata": {},
   "outputs": [
    {
     "name": "stdout",
     "output_type": "stream",
     "text": [
      "w = [2014.04], b = 28248.45\n"
     ]
    }
   ],
   "source": [
    "b = linear_model.intercept_\n",
    "w = linear_model.coef_\n",
    "\n",
    "print(f\"w = {w:}, b = {b:0.2f}\")"
   ]
  },
  {
   "cell_type": "code",
   "execution_count": 57,
   "id": "a9f5b738-55fc-4f4f-86dc-800af30683a8",
   "metadata": {},
   "outputs": [
    {
     "data": {
      "image/png": "...",
      "text/plain": [
       "<Figure size 640x480 with 1 Axes>"
      ]
     },
     "metadata": {},
     "output_type": "display_data"
    }
   ],
   "source": [
    "x_vals = np.linspace(X_train.min(), X_train.max(), 100)\n",
    "\n",
    "y_vals = w * x_vals + b\n",
    "\n",
    "# Plot the training data points\n",
    "plt.scatter(X_train, Y_train, color='blue', label='Training data')\n",
    "\n",
    "# Plot the regression line\n",
    "plt.plot(x_vals, y_vals, color='red', label='Regression line')\n",
    "\n",
    "plt.xlabel('Years of Experience')\n",
    "plt.ylabel('Income')\n",
    "plt.title('Linear Regression Fit')\n",
    "plt.legend()\n",
    "plt.show()"
   ]
  },
  {
   "cell_type": "code",
   "execution_count": 58,
   "id": "37cac41d-c6cf-45ed-98e3-e1dd57b4c21c",
   "metadata": {},
   "outputs": [
    {
     "name": "stdout",
     "output_type": "stream",
     "text": [
      "Prediction on training set:\n",
      " [30262.49 34290.57]\n",
      "Prediction using w, b:\n",
      " [30262.49 34290.57]\n",
      "Target values:\n",
      " [30450 35670]\n"
     ]
    }
   ],
   "source": [
    "print(f\"Prediction on training set:\\n {linear_model.predict(X_train)[:2]}\")\n",
    "print(f\"Prediction using w, b:\\n {(X_train.values @ w + b)[:2]}\")\n",
    "print(f\"Target values:\\n {Y_train[:2].values}\")"
   ]
  },
  {
   "cell_type": "code",
   "execution_count": 59,
   "id": "6554005b-27ef-4d12-882c-8ecf7ed01f97",
   "metadata": {},
   "outputs": [
    {
     "name": "stdout",
     "output_type": "stream",
     "text": [
      "Predicted income for a person with 3 years experience = $34290569.31\n"
     ]
    }
   ],
   "source": [
    "x_income = pd.DataFrame([[3]], columns=['experience'])\n",
    "income_predict = linear_model.predict(x_income)[0]\n",
    "\n",
    "print(f\"Predicted income for a person with 3 years experience = ${income_predict*1000:0.2f}\")"
   ]
  }
 ],
 "metadata": {
  "kernelspec": {
   "display_name": "Python (jupyter-env)",
   "language": "python",
   "name": "jupyter-env"
  },
  "language_info": {
   "codemirror_mode": {
    "name": "ipython",
    "version": 3
   },
   "file_extension": ".py",
   "mimetype": "text/x-python",
   "name": "python",
   "nbconvert_exporter": "python",
   "pygments_lexer": "ipython3",
   "version": "3.13.3"
  }
 },
 "nbformat": 4,
 "nbformat_minor": 5
}
